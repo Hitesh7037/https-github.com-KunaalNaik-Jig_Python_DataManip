{
 "cells": [
  {
   "cell_type": "markdown",
   "id": "d145aaea-8757-45d7-a6a2-bf3e9142836b",
   "metadata": {},
   "source": [
    "# Categorical Encoding"
   ]
  },
  {
   "cell_type": "markdown",
   "id": "1cd4d242-2dc4-4ea7-a1ef-025aaa7b08ae",
   "metadata": {},
   "source": [
    "## Import Libraries"
   ]
  },
  {
   "cell_type": "code",
   "execution_count": 16,
   "id": "f867e7ef-9dab-4b47-b0f1-29775699f958",
   "metadata": {},
   "outputs": [],
   "source": [
    "import pandas as pd"
   ]
  },
  {
   "cell_type": "markdown",
   "id": "ec415967-24bb-4f40-b73e-08e02df6c0b5",
   "metadata": {},
   "source": [
    "## Import Data"
   ]
  },
  {
   "cell_type": "code",
   "execution_count": 17,
   "id": "70a654d3-a6de-4b82-b4f3-f08480910c3a",
   "metadata": {},
   "outputs": [],
   "source": [
    "train = pd.read_csv('train_classification.csv')"
   ]
  },
  {
   "cell_type": "code",
   "execution_count": 18,
   "id": "f7b17311-33e9-4a89-85f9-5af1cd1d08bb",
   "metadata": {},
   "outputs": [
    {
     "name": "stdout",
     "output_type": "stream",
     "text": [
      "<class 'pandas.core.frame.DataFrame'>\n",
      "RangeIndex: 18359 entries, 0 to 18358\n",
      "Data columns (total 14 columns):\n",
      " #   Column                  Non-Null Count  Dtype  \n",
      "---  ------                  --------------  -----  \n",
      " 0   enrollee_id             18359 non-null  int64  \n",
      " 1   city                    18359 non-null  object \n",
      " 2   city_development_index  18359 non-null  float64\n",
      " 3   gender                  14261 non-null  object \n",
      " 4   relevent_experience     18359 non-null  object \n",
      " 5   enrolled_university     18017 non-null  object \n",
      " 6   education_level         17902 non-null  object \n",
      " 7   major_discipline        15521 non-null  object \n",
      " 8   experience              18300 non-null  object \n",
      " 9   company_size            13580 non-null  object \n",
      " 10  company_type            13320 non-null  object \n",
      " 11  last_new_job            17992 non-null  object \n",
      " 12  training_hours          18359 non-null  int64  \n",
      " 13  target                  18359 non-null  int64  \n",
      "dtypes: float64(1), int64(3), object(10)\n",
      "memory usage: 2.0+ MB\n"
     ]
    }
   ],
   "source": [
    "train.info()"
   ]
  },
  {
   "cell_type": "markdown",
   "id": "b1056360-bb9f-4c2d-b8c9-8acd3ebbe1c4",
   "metadata": {},
   "source": [
    "## Partition Data into X and y"
   ]
  },
  {
   "cell_type": "code",
   "execution_count": 19,
   "id": "3548b00c-877a-4117-8653-037c9c242c21",
   "metadata": {},
   "outputs": [],
   "source": [
    "y = train['target']\n",
    "X = train.drop(['target','enrollee_id'], axis =  1)"
   ]
  },
  {
   "cell_type": "code",
   "execution_count": 20,
   "id": "311c79f5-9436-4509-9979-67b868218f55",
   "metadata": {},
   "outputs": [
    {
     "data": {
      "text/plain": [
       "city                         0\n",
       "city_development_index       0\n",
       "gender                    4098\n",
       "relevent_experience          0\n",
       "enrolled_university        342\n",
       "education_level            457\n",
       "major_discipline          2838\n",
       "experience                  59\n",
       "company_size              4779\n",
       "company_type              5039\n",
       "last_new_job               367\n",
       "training_hours               0\n",
       "dtype: int64"
      ]
     },
     "execution_count": 20,
     "metadata": {},
     "output_type": "execute_result"
    }
   ],
   "source": [
    "X.isnull().sum()"
   ]
  },
  {
   "cell_type": "markdown",
   "id": "07e131a7-5eea-429f-8923-bb622f1208a8",
   "metadata": {},
   "source": [
    "## Get Numerical and Categorical Column Names"
   ]
  },
  {
   "cell_type": "code",
   "execution_count": 21,
   "id": "a66053f9-2306-4455-9871-e59d8308484c",
   "metadata": {},
   "outputs": [
    {
     "data": {
      "text/plain": [
       "['city_development_index', 'training_hours']"
      ]
     },
     "execution_count": 21,
     "metadata": {},
     "output_type": "execute_result"
    }
   ],
   "source": [
    "numerical_features = X.select_dtypes(include = ['int64','float64']).columns.tolist()\n",
    "numerical_features"
   ]
  },
  {
   "cell_type": "code",
   "execution_count": 22,
   "id": "9a1e89d3-cd61-4d77-b0cf-7563a9e686bb",
   "metadata": {},
   "outputs": [
    {
     "data": {
      "text/plain": [
       "['city',\n",
       " 'gender',\n",
       " 'relevent_experience',\n",
       " 'enrolled_university',\n",
       " 'education_level',\n",
       " 'major_discipline',\n",
       " 'experience',\n",
       " 'company_size',\n",
       " 'company_type',\n",
       " 'last_new_job']"
      ]
     },
     "execution_count": 22,
     "metadata": {},
     "output_type": "execute_result"
    }
   ],
   "source": [
    "categorical_features = X.select_dtypes(exclude = ['int64','float64']).columns.tolist()\n",
    "categorical_features"
   ]
  },
  {
   "cell_type": "code",
   "execution_count": 23,
   "id": "704a398d-ca65-4f0d-8aef-7d470f5d9069",
   "metadata": {},
   "outputs": [
    {
     "data": {
      "text/plain": [
       "['city', 'experience']"
      ]
     },
     "execution_count": 23,
     "metadata": {},
     "output_type": "execute_result"
    }
   ],
   "source": [
    "hc_cat_features = X[categorical_features].columns[X[categorical_features].nunique() > 10].tolist()\n",
    "hc_cat_features"
   ]
  },
  {
   "cell_type": "code",
   "execution_count": 24,
   "id": "e2111610-268d-4869-b156-579b299ab182",
   "metadata": {},
   "outputs": [
    {
     "data": {
      "text/plain": [
       "['gender',\n",
       " 'relevent_experience',\n",
       " 'enrolled_university',\n",
       " 'education_level',\n",
       " 'major_discipline',\n",
       " 'company_size',\n",
       " 'company_type',\n",
       " 'last_new_job']"
      ]
     },
     "execution_count": 24,
     "metadata": {},
     "output_type": "execute_result"
    }
   ],
   "source": [
    "lc_cat_features = X[categorical_features].columns[X[categorical_features].nunique() <= 10].tolist()\n",
    "lc_cat_features"
   ]
  },
  {
   "cell_type": "markdown",
   "id": "5865c4bf-4ad3-4601-bb82-36e36a02b277",
   "metadata": {},
   "source": [
    "## Missing Value Treatment"
   ]
  },
  {
   "cell_type": "code",
   "execution_count": 25,
   "id": "9c60fef9-0e8c-4836-8502-bd5972ebee84",
   "metadata": {},
   "outputs": [],
   "source": [
    "from sklearn.impute import SimpleImputer\n",
    "\n",
    "num_impute = SimpleImputer(strategy = 'median')\n",
    "num_impute.fit(X[numerical_features])\n",
    "X[numerical_features] = num_impute.transform(X[numerical_features])\n",
    "\n",
    "cat_impute = SimpleImputer(strategy = 'constant', fill_value = 'missing')\n",
    "cat_impute.fit(X[categorical_features])\n",
    "X[categorical_features] = cat_impute.transform(X[categorical_features])"
   ]
  },
  {
   "cell_type": "markdown",
   "id": "99e6d7b9-82cd-4180-a13a-e0fe1e26fdfd",
   "metadata": {},
   "source": [
    "# High Cardinality Encoding Strategy"
   ]
  },
  {
   "cell_type": "markdown",
   "id": "06aa6b3b-8c14-416c-b153-616ff3cf61a0",
   "metadata": {},
   "source": [
    "## 1/ Check Features"
   ]
  },
  {
   "cell_type": "code",
   "execution_count": 26,
   "id": "dc52ecf1-fd1e-473c-adf6-183988fff869",
   "metadata": {},
   "outputs": [
    {
     "data": {
      "text/html": [
       "<div>\n",
       "<style scoped>\n",
       "    .dataframe tbody tr th:only-of-type {\n",
       "        vertical-align: middle;\n",
       "    }\n",
       "\n",
       "    .dataframe tbody tr th {\n",
       "        vertical-align: top;\n",
       "    }\n",
       "\n",
       "    .dataframe thead th {\n",
       "        text-align: right;\n",
       "    }\n",
       "</style>\n",
       "<table border=\"1\" class=\"dataframe\">\n",
       "  <thead>\n",
       "    <tr style=\"text-align: right;\">\n",
       "      <th></th>\n",
       "      <th>city</th>\n",
       "      <th>experience</th>\n",
       "    </tr>\n",
       "  </thead>\n",
       "  <tbody>\n",
       "    <tr>\n",
       "      <th>0</th>\n",
       "      <td>city_149</td>\n",
       "      <td>3</td>\n",
       "    </tr>\n",
       "    <tr>\n",
       "      <th>1</th>\n",
       "      <td>city_83</td>\n",
       "      <td>14</td>\n",
       "    </tr>\n",
       "    <tr>\n",
       "      <th>2</th>\n",
       "      <td>city_16</td>\n",
       "      <td>6</td>\n",
       "    </tr>\n",
       "    <tr>\n",
       "      <th>3</th>\n",
       "      <td>city_64</td>\n",
       "      <td>14</td>\n",
       "    </tr>\n",
       "    <tr>\n",
       "      <th>4</th>\n",
       "      <td>city_100</td>\n",
       "      <td>8</td>\n",
       "    </tr>\n",
       "  </tbody>\n",
       "</table>\n",
       "</div>"
      ],
      "text/plain": [
       "       city experience\n",
       "0  city_149          3\n",
       "1   city_83         14\n",
       "2   city_16          6\n",
       "3   city_64         14\n",
       "4  city_100          8"
      ]
     },
     "execution_count": 26,
     "metadata": {},
     "output_type": "execute_result"
    }
   ],
   "source": [
    "X[hc_cat_features].head()"
   ]
  },
  {
   "cell_type": "code",
   "execution_count": 27,
   "id": "a7fd9391-20ee-4c53-b3bb-498b39f1fbd7",
   "metadata": {},
   "outputs": [
    {
     "data": {
      "text/plain": [
       "city          123\n",
       "experience     23\n",
       "dtype: int64"
      ]
     },
     "execution_count": 27,
     "metadata": {},
     "output_type": "execute_result"
    }
   ],
   "source": [
    "X[hc_cat_features].nunique()"
   ]
  },
  {
   "cell_type": "markdown",
   "id": "2ef59378-332d-41dd-8192-2b5e3f0d3604",
   "metadata": {},
   "source": [
    "## 2/ Encode"
   ]
  },
  {
   "cell_type": "code",
   "execution_count": 28,
   "id": "6206ccec-9da8-4624-84d1-dca83a7d2232",
   "metadata": {},
   "outputs": [],
   "source": [
    "from sklearn.preprocessing import OrdinalEncoder"
   ]
  },
  {
   "cell_type": "code",
   "execution_count": 29,
   "id": "07723e73-3629-4564-bc97-326e5425cb84",
   "metadata": {},
   "outputs": [],
   "source": [
    "# Create Instance\n",
    "hc_encoder = OrdinalEncoder(handle_unknown = 'use_encoded_value', unknown_value = -1)"
   ]
  },
  {
   "cell_type": "code",
   "execution_count": 30,
   "id": "ccf48eaa-ce47-4f02-a366-2adecb03f593",
   "metadata": {},
   "outputs": [
    {
     "data": {
      "text/plain": [
       "OrdinalEncoder(handle_unknown='ignore')"
      ]
     },
     "execution_count": 30,
     "metadata": {},
     "output_type": "execute_result"
    }
   ],
   "source": [
    "# Fit \n",
    "hc_encoder.fit(X[hc_cat_features])"
   ]
  },
  {
   "cell_type": "code",
   "execution_count": 31,
   "id": "b26313d1-8f96-497f-99ad-2764a4f0a4d4",
   "metadata": {},
   "outputs": [],
   "source": [
    "# Transform and Replace in X Datafrome\n",
    "X[hc_cat_features] = hc_encoder.transform(X[hc_cat_features])"
   ]
  },
  {
   "cell_type": "markdown",
   "id": "0e70098b-5a45-403e-b605-5ba3398eca67",
   "metadata": {},
   "source": [
    "## 3/ Check"
   ]
  },
  {
   "cell_type": "code",
   "execution_count": 32,
   "id": "aa5540db-2262-4405-a087-90583ba9bb08",
   "metadata": {},
   "outputs": [
    {
     "data": {
      "text/html": [
       "<div>\n",
       "<style scoped>\n",
       "    .dataframe tbody tr th:only-of-type {\n",
       "        vertical-align: middle;\n",
       "    }\n",
       "\n",
       "    .dataframe tbody tr th {\n",
       "        vertical-align: top;\n",
       "    }\n",
       "\n",
       "    .dataframe thead th {\n",
       "        text-align: right;\n",
       "    }\n",
       "</style>\n",
       "<table border=\"1\" class=\"dataframe\">\n",
       "  <thead>\n",
       "    <tr style=\"text-align: right;\">\n",
       "      <th></th>\n",
       "      <th>city</th>\n",
       "      <th>experience</th>\n",
       "    </tr>\n",
       "  </thead>\n",
       "  <tbody>\n",
       "    <tr>\n",
       "      <th>0</th>\n",
       "      <td>41.0</td>\n",
       "      <td>13.0</td>\n",
       "    </tr>\n",
       "    <tr>\n",
       "      <th>1</th>\n",
       "      <td>112.0</td>\n",
       "      <td>5.0</td>\n",
       "    </tr>\n",
       "    <tr>\n",
       "      <th>2</th>\n",
       "      <td>48.0</td>\n",
       "      <td>16.0</td>\n",
       "    </tr>\n",
       "    <tr>\n",
       "      <th>3</th>\n",
       "      <td>93.0</td>\n",
       "      <td>5.0</td>\n",
       "    </tr>\n",
       "    <tr>\n",
       "      <th>4</th>\n",
       "      <td>2.0</td>\n",
       "      <td>18.0</td>\n",
       "    </tr>\n",
       "  </tbody>\n",
       "</table>\n",
       "</div>"
      ],
      "text/plain": [
       "    city  experience\n",
       "0   41.0        13.0\n",
       "1  112.0         5.0\n",
       "2   48.0        16.0\n",
       "3   93.0         5.0\n",
       "4    2.0        18.0"
      ]
     },
     "execution_count": 32,
     "metadata": {},
     "output_type": "execute_result"
    }
   ],
   "source": [
    "X[hc_cat_features].head()"
   ]
  },
  {
   "cell_type": "code",
   "execution_count": 33,
   "id": "eb2a3828-8051-4528-b0cc-7bd33f6def55",
   "metadata": {},
   "outputs": [
    {
     "data": {
      "text/html": [
       "<div>\n",
       "<style scoped>\n",
       "    .dataframe tbody tr th:only-of-type {\n",
       "        vertical-align: middle;\n",
       "    }\n",
       "\n",
       "    .dataframe tbody tr th {\n",
       "        vertical-align: top;\n",
       "    }\n",
       "\n",
       "    .dataframe thead th {\n",
       "        text-align: right;\n",
       "    }\n",
       "</style>\n",
       "<table border=\"1\" class=\"dataframe\">\n",
       "  <thead>\n",
       "    <tr style=\"text-align: right;\">\n",
       "      <th></th>\n",
       "      <th>city</th>\n",
       "      <th>experience</th>\n",
       "    </tr>\n",
       "  </thead>\n",
       "  <tbody>\n",
       "    <tr>\n",
       "      <th>count</th>\n",
       "      <td>18359.000000</td>\n",
       "      <td>18359.00000</td>\n",
       "    </tr>\n",
       "    <tr>\n",
       "      <th>mean</th>\n",
       "      <td>43.239229</td>\n",
       "      <td>12.95795</td>\n",
       "    </tr>\n",
       "    <tr>\n",
       "      <th>std</th>\n",
       "      <td>36.036755</td>\n",
       "      <td>6.69527</td>\n",
       "    </tr>\n",
       "    <tr>\n",
       "      <th>min</th>\n",
       "      <td>0.000000</td>\n",
       "      <td>0.00000</td>\n",
       "    </tr>\n",
       "    <tr>\n",
       "      <th>25%</th>\n",
       "      <td>5.000000</td>\n",
       "      <td>7.00000</td>\n",
       "    </tr>\n",
       "    <tr>\n",
       "      <th>50%</th>\n",
       "      <td>48.000000</td>\n",
       "      <td>14.00000</td>\n",
       "    </tr>\n",
       "    <tr>\n",
       "      <th>75%</th>\n",
       "      <td>64.000000</td>\n",
       "      <td>19.00000</td>\n",
       "    </tr>\n",
       "    <tr>\n",
       "      <th>max</th>\n",
       "      <td>122.000000</td>\n",
       "      <td>22.00000</td>\n",
       "    </tr>\n",
       "  </tbody>\n",
       "</table>\n",
       "</div>"
      ],
      "text/plain": [
       "               city   experience\n",
       "count  18359.000000  18359.00000\n",
       "mean      43.239229     12.95795\n",
       "std       36.036755      6.69527\n",
       "min        0.000000      0.00000\n",
       "25%        5.000000      7.00000\n",
       "50%       48.000000     14.00000\n",
       "75%       64.000000     19.00000\n",
       "max      122.000000     22.00000"
      ]
     },
     "execution_count": 33,
     "metadata": {},
     "output_type": "execute_result"
    }
   ],
   "source": [
    "X[hc_cat_features].describe()"
   ]
  },
  {
   "cell_type": "markdown",
   "id": "14391e53-3ca1-493c-8093-eddd3f1b5803",
   "metadata": {},
   "source": [
    "# Low Cardinality Encoding"
   ]
  },
  {
   "cell_type": "code",
   "execution_count": 34,
   "id": "8a552a30-41c6-4ea5-a558-fb78c372775b",
   "metadata": {},
   "outputs": [
    {
     "data": {
      "text/html": [
       "<div>\n",
       "<style scoped>\n",
       "    .dataframe tbody tr th:only-of-type {\n",
       "        vertical-align: middle;\n",
       "    }\n",
       "\n",
       "    .dataframe tbody tr th {\n",
       "        vertical-align: top;\n",
       "    }\n",
       "\n",
       "    .dataframe thead th {\n",
       "        text-align: right;\n",
       "    }\n",
       "</style>\n",
       "<table border=\"1\" class=\"dataframe\">\n",
       "  <thead>\n",
       "    <tr style=\"text-align: right;\">\n",
       "      <th></th>\n",
       "      <th>city</th>\n",
       "      <th>city_development_index</th>\n",
       "      <th>gender</th>\n",
       "      <th>relevent_experience</th>\n",
       "      <th>enrolled_university</th>\n",
       "      <th>education_level</th>\n",
       "      <th>major_discipline</th>\n",
       "      <th>experience</th>\n",
       "      <th>company_size</th>\n",
       "      <th>company_type</th>\n",
       "      <th>last_new_job</th>\n",
       "      <th>training_hours</th>\n",
       "    </tr>\n",
       "  </thead>\n",
       "  <tbody>\n",
       "    <tr>\n",
       "      <th>0</th>\n",
       "      <td>41.0</td>\n",
       "      <td>0.689</td>\n",
       "      <td>Male</td>\n",
       "      <td>Has relevent experience</td>\n",
       "      <td>no_enrollment</td>\n",
       "      <td>Graduate</td>\n",
       "      <td>STEM</td>\n",
       "      <td>13.0</td>\n",
       "      <td>100-500</td>\n",
       "      <td>Pvt Ltd</td>\n",
       "      <td>1</td>\n",
       "      <td>106.0</td>\n",
       "    </tr>\n",
       "    <tr>\n",
       "      <th>1</th>\n",
       "      <td>112.0</td>\n",
       "      <td>0.923</td>\n",
       "      <td>Male</td>\n",
       "      <td>Has relevent experience</td>\n",
       "      <td>no_enrollment</td>\n",
       "      <td>Graduate</td>\n",
       "      <td>STEM</td>\n",
       "      <td>5.0</td>\n",
       "      <td>&lt;10</td>\n",
       "      <td>Funded Startup</td>\n",
       "      <td>1</td>\n",
       "      <td>69.0</td>\n",
       "    </tr>\n",
       "    <tr>\n",
       "      <th>2</th>\n",
       "      <td>48.0</td>\n",
       "      <td>0.910</td>\n",
       "      <td>missing</td>\n",
       "      <td>Has relevent experience</td>\n",
       "      <td>no_enrollment</td>\n",
       "      <td>Graduate</td>\n",
       "      <td>STEM</td>\n",
       "      <td>16.0</td>\n",
       "      <td>50-99</td>\n",
       "      <td>Public Sector</td>\n",
       "      <td>2</td>\n",
       "      <td>4.0</td>\n",
       "    </tr>\n",
       "    <tr>\n",
       "      <th>3</th>\n",
       "      <td>93.0</td>\n",
       "      <td>0.666</td>\n",
       "      <td>Male</td>\n",
       "      <td>Has relevent experience</td>\n",
       "      <td>no_enrollment</td>\n",
       "      <td>Graduate</td>\n",
       "      <td>STEM</td>\n",
       "      <td>5.0</td>\n",
       "      <td>50-99</td>\n",
       "      <td>Pvt Ltd</td>\n",
       "      <td>1</td>\n",
       "      <td>26.0</td>\n",
       "    </tr>\n",
       "    <tr>\n",
       "      <th>4</th>\n",
       "      <td>2.0</td>\n",
       "      <td>0.887</td>\n",
       "      <td>missing</td>\n",
       "      <td>No relevent experience</td>\n",
       "      <td>no_enrollment</td>\n",
       "      <td>Masters</td>\n",
       "      <td>STEM</td>\n",
       "      <td>18.0</td>\n",
       "      <td>missing</td>\n",
       "      <td>missing</td>\n",
       "      <td>2</td>\n",
       "      <td>88.0</td>\n",
       "    </tr>\n",
       "  </tbody>\n",
       "</table>\n",
       "</div>"
      ],
      "text/plain": [
       "    city  city_development_index   gender      relevent_experience  \\\n",
       "0   41.0                   0.689     Male  Has relevent experience   \n",
       "1  112.0                   0.923     Male  Has relevent experience   \n",
       "2   48.0                   0.910  missing  Has relevent experience   \n",
       "3   93.0                   0.666     Male  Has relevent experience   \n",
       "4    2.0                   0.887  missing   No relevent experience   \n",
       "\n",
       "  enrolled_university education_level major_discipline  experience  \\\n",
       "0       no_enrollment        Graduate             STEM        13.0   \n",
       "1       no_enrollment        Graduate             STEM         5.0   \n",
       "2       no_enrollment        Graduate             STEM        16.0   \n",
       "3       no_enrollment        Graduate             STEM         5.0   \n",
       "4       no_enrollment         Masters             STEM        18.0   \n",
       "\n",
       "  company_size    company_type last_new_job  training_hours  \n",
       "0      100-500         Pvt Ltd            1           106.0  \n",
       "1          <10  Funded Startup            1            69.0  \n",
       "2        50-99   Public Sector            2             4.0  \n",
       "3        50-99         Pvt Ltd            1            26.0  \n",
       "4      missing         missing            2            88.0  "
      ]
     },
     "execution_count": 34,
     "metadata": {},
     "output_type": "execute_result"
    }
   ],
   "source": [
    "X.head()"
   ]
  },
  {
   "cell_type": "code",
   "execution_count": 35,
   "id": "72a763dc-e05a-4617-a991-61b8d9b7aea3",
   "metadata": {},
   "outputs": [
    {
     "data": {
      "text/plain": [
       "gender                 4\n",
       "relevent_experience    2\n",
       "enrolled_university    4\n",
       "education_level        6\n",
       "major_discipline       7\n",
       "company_size           9\n",
       "company_type           7\n",
       "last_new_job           7\n",
       "dtype: int64"
      ]
     },
     "execution_count": 35,
     "metadata": {},
     "output_type": "execute_result"
    }
   ],
   "source": [
    "X[lc_cat_features].nunique()"
   ]
  },
  {
   "cell_type": "code",
   "execution_count": 36,
   "id": "41cda7b8-f6b1-4570-a1fe-05f241745379",
   "metadata": {},
   "outputs": [
    {
     "data": {
      "text/plain": [
       "array(['Male', 'missing', 'Female', 'Other'], dtype=object)"
      ]
     },
     "execution_count": 36,
     "metadata": {},
     "output_type": "execute_result"
    }
   ],
   "source": [
    "X['gender'].unique()"
   ]
  },
  {
   "cell_type": "code",
   "execution_count": 37,
   "id": "2a3e7042-12ce-498e-9c84-8831bd735097",
   "metadata": {},
   "outputs": [
    {
     "data": {
      "text/html": [
       "<div>\n",
       "<style scoped>\n",
       "    .dataframe tbody tr th:only-of-type {\n",
       "        vertical-align: middle;\n",
       "    }\n",
       "\n",
       "    .dataframe tbody tr th {\n",
       "        vertical-align: top;\n",
       "    }\n",
       "\n",
       "    .dataframe thead th {\n",
       "        text-align: right;\n",
       "    }\n",
       "</style>\n",
       "<table border=\"1\" class=\"dataframe\">\n",
       "  <thead>\n",
       "    <tr style=\"text-align: right;\">\n",
       "      <th></th>\n",
       "      <th>city</th>\n",
       "      <th>city_development_index</th>\n",
       "      <th>experience</th>\n",
       "      <th>training_hours</th>\n",
       "      <th>gender_Male</th>\n",
       "      <th>gender_Other</th>\n",
       "      <th>gender_missing</th>\n",
       "      <th>relevent_experience_No relevent experience</th>\n",
       "      <th>enrolled_university_Part time course</th>\n",
       "      <th>enrolled_university_missing</th>\n",
       "      <th>...</th>\n",
       "      <th>company_type_Other</th>\n",
       "      <th>company_type_Public Sector</th>\n",
       "      <th>company_type_Pvt Ltd</th>\n",
       "      <th>company_type_missing</th>\n",
       "      <th>last_new_job_2</th>\n",
       "      <th>last_new_job_3</th>\n",
       "      <th>last_new_job_4</th>\n",
       "      <th>last_new_job_&gt;4</th>\n",
       "      <th>last_new_job_missing</th>\n",
       "      <th>last_new_job_never</th>\n",
       "    </tr>\n",
       "  </thead>\n",
       "  <tbody>\n",
       "    <tr>\n",
       "      <th>0</th>\n",
       "      <td>41.0</td>\n",
       "      <td>0.689</td>\n",
       "      <td>13.0</td>\n",
       "      <td>106.0</td>\n",
       "      <td>1</td>\n",
       "      <td>0</td>\n",
       "      <td>0</td>\n",
       "      <td>0</td>\n",
       "      <td>0</td>\n",
       "      <td>0</td>\n",
       "      <td>...</td>\n",
       "      <td>0</td>\n",
       "      <td>0</td>\n",
       "      <td>1</td>\n",
       "      <td>0</td>\n",
       "      <td>0</td>\n",
       "      <td>0</td>\n",
       "      <td>0</td>\n",
       "      <td>0</td>\n",
       "      <td>0</td>\n",
       "      <td>0</td>\n",
       "    </tr>\n",
       "    <tr>\n",
       "      <th>1</th>\n",
       "      <td>112.0</td>\n",
       "      <td>0.923</td>\n",
       "      <td>5.0</td>\n",
       "      <td>69.0</td>\n",
       "      <td>1</td>\n",
       "      <td>0</td>\n",
       "      <td>0</td>\n",
       "      <td>0</td>\n",
       "      <td>0</td>\n",
       "      <td>0</td>\n",
       "      <td>...</td>\n",
       "      <td>0</td>\n",
       "      <td>0</td>\n",
       "      <td>0</td>\n",
       "      <td>0</td>\n",
       "      <td>0</td>\n",
       "      <td>0</td>\n",
       "      <td>0</td>\n",
       "      <td>0</td>\n",
       "      <td>0</td>\n",
       "      <td>0</td>\n",
       "    </tr>\n",
       "    <tr>\n",
       "      <th>2</th>\n",
       "      <td>48.0</td>\n",
       "      <td>0.910</td>\n",
       "      <td>16.0</td>\n",
       "      <td>4.0</td>\n",
       "      <td>0</td>\n",
       "      <td>0</td>\n",
       "      <td>1</td>\n",
       "      <td>0</td>\n",
       "      <td>0</td>\n",
       "      <td>0</td>\n",
       "      <td>...</td>\n",
       "      <td>0</td>\n",
       "      <td>1</td>\n",
       "      <td>0</td>\n",
       "      <td>0</td>\n",
       "      <td>1</td>\n",
       "      <td>0</td>\n",
       "      <td>0</td>\n",
       "      <td>0</td>\n",
       "      <td>0</td>\n",
       "      <td>0</td>\n",
       "    </tr>\n",
       "    <tr>\n",
       "      <th>3</th>\n",
       "      <td>93.0</td>\n",
       "      <td>0.666</td>\n",
       "      <td>5.0</td>\n",
       "      <td>26.0</td>\n",
       "      <td>1</td>\n",
       "      <td>0</td>\n",
       "      <td>0</td>\n",
       "      <td>0</td>\n",
       "      <td>0</td>\n",
       "      <td>0</td>\n",
       "      <td>...</td>\n",
       "      <td>0</td>\n",
       "      <td>0</td>\n",
       "      <td>1</td>\n",
       "      <td>0</td>\n",
       "      <td>0</td>\n",
       "      <td>0</td>\n",
       "      <td>0</td>\n",
       "      <td>0</td>\n",
       "      <td>0</td>\n",
       "      <td>0</td>\n",
       "    </tr>\n",
       "    <tr>\n",
       "      <th>4</th>\n",
       "      <td>2.0</td>\n",
       "      <td>0.887</td>\n",
       "      <td>18.0</td>\n",
       "      <td>88.0</td>\n",
       "      <td>0</td>\n",
       "      <td>0</td>\n",
       "      <td>1</td>\n",
       "      <td>1</td>\n",
       "      <td>0</td>\n",
       "      <td>0</td>\n",
       "      <td>...</td>\n",
       "      <td>0</td>\n",
       "      <td>0</td>\n",
       "      <td>0</td>\n",
       "      <td>1</td>\n",
       "      <td>1</td>\n",
       "      <td>0</td>\n",
       "      <td>0</td>\n",
       "      <td>0</td>\n",
       "      <td>0</td>\n",
       "      <td>0</td>\n",
       "    </tr>\n",
       "  </tbody>\n",
       "</table>\n",
       "<p>5 rows × 42 columns</p>\n",
       "</div>"
      ],
      "text/plain": [
       "    city  city_development_index  experience  training_hours  gender_Male  \\\n",
       "0   41.0                   0.689        13.0           106.0            1   \n",
       "1  112.0                   0.923         5.0            69.0            1   \n",
       "2   48.0                   0.910        16.0             4.0            0   \n",
       "3   93.0                   0.666         5.0            26.0            1   \n",
       "4    2.0                   0.887        18.0            88.0            0   \n",
       "\n",
       "   gender_Other  gender_missing  relevent_experience_No relevent experience  \\\n",
       "0             0               0                                           0   \n",
       "1             0               0                                           0   \n",
       "2             0               1                                           0   \n",
       "3             0               0                                           0   \n",
       "4             0               1                                           1   \n",
       "\n",
       "   enrolled_university_Part time course  enrolled_university_missing  ...  \\\n",
       "0                                     0                            0  ...   \n",
       "1                                     0                            0  ...   \n",
       "2                                     0                            0  ...   \n",
       "3                                     0                            0  ...   \n",
       "4                                     0                            0  ...   \n",
       "\n",
       "   company_type_Other  company_type_Public Sector  company_type_Pvt Ltd  \\\n",
       "0                   0                           0                     1   \n",
       "1                   0                           0                     0   \n",
       "2                   0                           1                     0   \n",
       "3                   0                           0                     1   \n",
       "4                   0                           0                     0   \n",
       "\n",
       "   company_type_missing  last_new_job_2  last_new_job_3  last_new_job_4  \\\n",
       "0                     0               0               0               0   \n",
       "1                     0               0               0               0   \n",
       "2                     0               1               0               0   \n",
       "3                     0               0               0               0   \n",
       "4                     1               1               0               0   \n",
       "\n",
       "   last_new_job_>4  last_new_job_missing  last_new_job_never  \n",
       "0                0                     0                   0  \n",
       "1                0                     0                   0  \n",
       "2                0                     0                   0  \n",
       "3                0                     0                   0  \n",
       "4                0                     0                   0  \n",
       "\n",
       "[5 rows x 42 columns]"
      ]
     },
     "execution_count": 37,
     "metadata": {},
     "output_type": "execute_result"
    }
   ],
   "source": [
    "X = pd.get_dummies(X, drop_first = True)\n",
    "X.head()"
   ]
  },
  {
   "cell_type": "code",
   "execution_count": 38,
   "id": "43b2f204-d337-415a-a710-a0160a8057cd",
   "metadata": {},
   "outputs": [
    {
     "name": "stdout",
     "output_type": "stream",
     "text": [
      "<class 'pandas.core.frame.DataFrame'>\n",
      "RangeIndex: 18359 entries, 0 to 18358\n",
      "Data columns (total 42 columns):\n",
      " #   Column                                      Non-Null Count  Dtype  \n",
      "---  ------                                      --------------  -----  \n",
      " 0   city                                        18359 non-null  float64\n",
      " 1   city_development_index                      18359 non-null  float64\n",
      " 2   experience                                  18359 non-null  float64\n",
      " 3   training_hours                              18359 non-null  float64\n",
      " 4   gender_Male                                 18359 non-null  uint8  \n",
      " 5   gender_Other                                18359 non-null  uint8  \n",
      " 6   gender_missing                              18359 non-null  uint8  \n",
      " 7   relevent_experience_No relevent experience  18359 non-null  uint8  \n",
      " 8   enrolled_university_Part time course        18359 non-null  uint8  \n",
      " 9   enrolled_university_missing                 18359 non-null  uint8  \n",
      " 10  enrolled_university_no_enrollment           18359 non-null  uint8  \n",
      " 11  education_level_High School                 18359 non-null  uint8  \n",
      " 12  education_level_Masters                     18359 non-null  uint8  \n",
      " 13  education_level_Phd                         18359 non-null  uint8  \n",
      " 14  education_level_Primary School              18359 non-null  uint8  \n",
      " 15  education_level_missing                     18359 non-null  uint8  \n",
      " 16  major_discipline_Business Degree            18359 non-null  uint8  \n",
      " 17  major_discipline_Humanities                 18359 non-null  uint8  \n",
      " 18  major_discipline_No Major                   18359 non-null  uint8  \n",
      " 19  major_discipline_Other                      18359 non-null  uint8  \n",
      " 20  major_discipline_STEM                       18359 non-null  uint8  \n",
      " 21  major_discipline_missing                    18359 non-null  uint8  \n",
      " 22  company_size_100-500                        18359 non-null  uint8  \n",
      " 23  company_size_1000-4999                      18359 non-null  uint8  \n",
      " 24  company_size_10000+                         18359 non-null  uint8  \n",
      " 25  company_size_50-99                          18359 non-null  uint8  \n",
      " 26  company_size_500-999                        18359 non-null  uint8  \n",
      " 27  company_size_5000-9999                      18359 non-null  uint8  \n",
      " 28  company_size_<10                            18359 non-null  uint8  \n",
      " 29  company_size_missing                        18359 non-null  uint8  \n",
      " 30  company_type_Funded Startup                 18359 non-null  uint8  \n",
      " 31  company_type_NGO                            18359 non-null  uint8  \n",
      " 32  company_type_Other                          18359 non-null  uint8  \n",
      " 33  company_type_Public Sector                  18359 non-null  uint8  \n",
      " 34  company_type_Pvt Ltd                        18359 non-null  uint8  \n",
      " 35  company_type_missing                        18359 non-null  uint8  \n",
      " 36  last_new_job_2                              18359 non-null  uint8  \n",
      " 37  last_new_job_3                              18359 non-null  uint8  \n",
      " 38  last_new_job_4                              18359 non-null  uint8  \n",
      " 39  last_new_job_>4                             18359 non-null  uint8  \n",
      " 40  last_new_job_missing                        18359 non-null  uint8  \n",
      " 41  last_new_job_never                          18359 non-null  uint8  \n",
      "dtypes: float64(4), uint8(38)\n",
      "memory usage: 1.2 MB\n"
     ]
    }
   ],
   "source": [
    "X.info()"
   ]
  },
  {
   "cell_type": "code",
   "execution_count": null,
   "id": "4ff378d7-aa12-4848-a370-eb2cf81185fc",
   "metadata": {},
   "outputs": [],
   "source": []
  }
 ],
 "metadata": {
  "kernelspec": {
   "display_name": "Python 3",
   "language": "python",
   "name": "python3"
  },
  "language_info": {
   "codemirror_mode": {
    "name": "ipython",
    "version": 3
   },
   "file_extension": ".py",
   "mimetype": "text/x-python",
   "name": "python",
   "nbconvert_exporter": "python",
   "pygments_lexer": "ipython3",
   "version": "3.8.8"
  }
 },
 "nbformat": 4,
 "nbformat_minor": 5
}
