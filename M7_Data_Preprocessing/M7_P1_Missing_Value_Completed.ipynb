{
 "cells": [
  {
   "cell_type": "markdown",
   "id": "d145aaea-8757-45d7-a6a2-bf3e9142836b",
   "metadata": {},
   "source": [
    "# Missing Values"
   ]
  },
  {
   "cell_type": "markdown",
   "id": "1cd4d242-2dc4-4ea7-a1ef-025aaa7b08ae",
   "metadata": {},
   "source": [
    "## Import Libraries"
   ]
  },
  {
   "cell_type": "code",
   "execution_count": 2,
   "id": "f867e7ef-9dab-4b47-b0f1-29775699f958",
   "metadata": {},
   "outputs": [],
   "source": [
    "import pandas as pd"
   ]
  },
  {
   "cell_type": "markdown",
   "id": "ec415967-24bb-4f40-b73e-08e02df6c0b5",
   "metadata": {},
   "source": [
    "## Import Data"
   ]
  },
  {
   "cell_type": "code",
   "execution_count": 3,
   "id": "70a654d3-a6de-4b82-b4f3-f08480910c3a",
   "metadata": {},
   "outputs": [],
   "source": [
    "train = pd.read_csv('train_classification.csv')"
   ]
  },
  {
   "cell_type": "code",
   "execution_count": 4,
   "id": "f7b17311-33e9-4a89-85f9-5af1cd1d08bb",
   "metadata": {},
   "outputs": [
    {
     "name": "stdout",
     "output_type": "stream",
     "text": [
      "<class 'pandas.core.frame.DataFrame'>\n",
      "RangeIndex: 18359 entries, 0 to 18358\n",
      "Data columns (total 14 columns):\n",
      " #   Column                  Non-Null Count  Dtype  \n",
      "---  ------                  --------------  -----  \n",
      " 0   enrollee_id             18359 non-null  int64  \n",
      " 1   city                    18359 non-null  object \n",
      " 2   city_development_index  18359 non-null  float64\n",
      " 3   gender                  14261 non-null  object \n",
      " 4   relevent_experience     18359 non-null  object \n",
      " 5   enrolled_university     18017 non-null  object \n",
      " 6   education_level         17902 non-null  object \n",
      " 7   major_discipline        15521 non-null  object \n",
      " 8   experience              18300 non-null  object \n",
      " 9   company_size            13580 non-null  object \n",
      " 10  company_type            13320 non-null  object \n",
      " 11  last_new_job            17992 non-null  object \n",
      " 12  training_hours          18359 non-null  int64  \n",
      " 13  target                  18359 non-null  int64  \n",
      "dtypes: float64(1), int64(3), object(10)\n",
      "memory usage: 2.0+ MB\n"
     ]
    }
   ],
   "source": [
    "train.info()"
   ]
  },
  {
   "cell_type": "markdown",
   "id": "b1056360-bb9f-4c2d-b8c9-8acd3ebbe1c4",
   "metadata": {},
   "source": [
    "## Partition Data into X and y"
   ]
  },
  {
   "cell_type": "code",
   "execution_count": 6,
   "id": "3548b00c-877a-4117-8653-037c9c242c21",
   "metadata": {},
   "outputs": [],
   "source": [
    "y = train['target']\n",
    "X = train.drop(['target','enrollee_id'], axis =  1)"
   ]
  },
  {
   "cell_type": "markdown",
   "id": "07e131a7-5eea-429f-8923-bb622f1208a8",
   "metadata": {},
   "source": [
    "## Get Numerical and Categorical Column Names"
   ]
  },
  {
   "cell_type": "code",
   "execution_count": 8,
   "id": "a66053f9-2306-4455-9871-e59d8308484c",
   "metadata": {},
   "outputs": [
    {
     "data": {
      "text/plain": [
       "['city_development_index', 'training_hours']"
      ]
     },
     "execution_count": 8,
     "metadata": {},
     "output_type": "execute_result"
    }
   ],
   "source": [
    "numerical_features = X.select_dtypes(include = ['int64','float64']).columns.tolist()\n",
    "numerical_features"
   ]
  },
  {
   "cell_type": "code",
   "execution_count": 9,
   "id": "9a1e89d3-cd61-4d77-b0cf-7563a9e686bb",
   "metadata": {},
   "outputs": [
    {
     "data": {
      "text/plain": [
       "['city',\n",
       " 'gender',\n",
       " 'relevent_experience',\n",
       " 'enrolled_university',\n",
       " 'education_level',\n",
       " 'major_discipline',\n",
       " 'experience',\n",
       " 'company_size',\n",
       " 'company_type',\n",
       " 'last_new_job']"
      ]
     },
     "execution_count": 9,
     "metadata": {},
     "output_type": "execute_result"
    }
   ],
   "source": [
    "categorical_features = X.select_dtypes(exclude = ['int64','float64']).columns.tolist()\n",
    "categorical_features"
   ]
  },
  {
   "cell_type": "markdown",
   "id": "de9ec623-9c7a-4dce-9cae-c529f628e6ac",
   "metadata": {},
   "source": [
    "# Missing Strategy"
   ]
  },
  {
   "cell_type": "markdown",
   "id": "79adaa66-d671-42d8-8019-6cd0edc1bcbd",
   "metadata": {},
   "source": [
    "## 1/ Identify"
   ]
  },
  {
   "cell_type": "code",
   "execution_count": 16,
   "id": "edd33dff-b4bb-4252-8df1-88e598880f1a",
   "metadata": {},
   "outputs": [
    {
     "data": {
      "text/plain": [
       "city                         0\n",
       "city_development_index       0\n",
       "gender                    4098\n",
       "relevent_experience          0\n",
       "enrolled_university        342\n",
       "education_level            457\n",
       "major_discipline          2838\n",
       "experience                  59\n",
       "company_size              4779\n",
       "company_type              5039\n",
       "last_new_job               367\n",
       "training_hours               0\n",
       "dtype: int64"
      ]
     },
     "execution_count": 16,
     "metadata": {},
     "output_type": "execute_result"
    }
   ],
   "source": [
    "X.isnull().sum()"
   ]
  },
  {
   "cell_type": "code",
   "execution_count": 22,
   "id": "7c636656-cbd0-4342-aa70-5d5f86790f64",
   "metadata": {},
   "outputs": [
    {
     "data": {
      "text/plain": [
       "['city_development_index', 'training_hours']"
      ]
     },
     "execution_count": 22,
     "metadata": {},
     "output_type": "execute_result"
    }
   ],
   "source": [
    "# Check Numerical Features\n",
    "numerical_features"
   ]
  },
  {
   "cell_type": "markdown",
   "id": "a265df81-8edb-49c2-ae3a-9fff980b141f",
   "metadata": {},
   "source": [
    "## 2/ Numerical - Treat Missing Values"
   ]
  },
  {
   "cell_type": "code",
   "execution_count": 13,
   "id": "5c5f248f-d71d-4bfc-9ad2-270410ae0d35",
   "metadata": {},
   "outputs": [],
   "source": [
    "from sklearn.impute import SimpleImputer"
   ]
  },
  {
   "cell_type": "code",
   "execution_count": 15,
   "id": "32951f1d-6066-42f8-af5a-6785c38f0a6b",
   "metadata": {},
   "outputs": [],
   "source": [
    "# Create Instance\n",
    "num_impute = SimpleImputer(strategy = 'median')"
   ]
  },
  {
   "cell_type": "code",
   "execution_count": 17,
   "id": "0526c3df-8624-4b21-afbf-aea895d9894e",
   "metadata": {},
   "outputs": [
    {
     "data": {
      "text/plain": [
       "SimpleImputer(strategy='median')"
      ]
     },
     "execution_count": 17,
     "metadata": {},
     "output_type": "execute_result"
    }
   ],
   "source": [
    "# Fit - calculating mean \n",
    "num_impute.fit(X[numerical_features])"
   ]
  },
  {
   "cell_type": "code",
   "execution_count": 21,
   "id": "3063a3a9-684c-4c88-9e1d-9da838a3326a",
   "metadata": {},
   "outputs": [],
   "source": [
    "# Transform and Replace in X Dataframe\n",
    "X[numerical_features] = num_impute.transform(X[numerical_features])"
   ]
  },
  {
   "cell_type": "markdown",
   "id": "9d15617f-eb04-47c1-b8b0-e5615c7cbf5f",
   "metadata": {},
   "source": [
    "## 3/ Categorical - Treat Missing Values"
   ]
  },
  {
   "cell_type": "code",
   "execution_count": 24,
   "id": "6ff062e4-9d09-4749-b2dc-80a0d289cbb6",
   "metadata": {},
   "outputs": [],
   "source": [
    "# Create Instance\n",
    "cat_impute = SimpleImputer(strategy = 'constant', fill_value = 'missing')"
   ]
  },
  {
   "cell_type": "code",
   "execution_count": 25,
   "id": "570a4db6-7c96-441d-871e-ea47258e9564",
   "metadata": {},
   "outputs": [
    {
     "data": {
      "text/plain": [
       "SimpleImputer(fill_value='missing', strategy='constant')"
      ]
     },
     "execution_count": 25,
     "metadata": {},
     "output_type": "execute_result"
    }
   ],
   "source": [
    "# Fit \n",
    "cat_impute.fit(X[categorical_features])"
   ]
  },
  {
   "cell_type": "code",
   "execution_count": 26,
   "id": "f6dc5a80-5b12-4bab-bff4-2d6e9bb3289e",
   "metadata": {},
   "outputs": [],
   "source": [
    "# Transform and Replace in X Datafrome\n",
    "X[categorical_features] = cat_impute.transform(X[categorical_features])"
   ]
  },
  {
   "cell_type": "markdown",
   "id": "e4a7dd47-c600-48d3-9e16-73bd96758f5c",
   "metadata": {},
   "source": [
    "## 4/ Check "
   ]
  },
  {
   "cell_type": "code",
   "execution_count": 27,
   "id": "87e018f5-eeeb-4bfe-9624-cc5b8c19851a",
   "metadata": {},
   "outputs": [
    {
     "data": {
      "text/plain": [
       "city                      0\n",
       "city_development_index    0\n",
       "gender                    0\n",
       "relevent_experience       0\n",
       "enrolled_university       0\n",
       "education_level           0\n",
       "major_discipline          0\n",
       "experience                0\n",
       "company_size              0\n",
       "company_type              0\n",
       "last_new_job              0\n",
       "training_hours            0\n",
       "dtype: int64"
      ]
     },
     "execution_count": 27,
     "metadata": {},
     "output_type": "execute_result"
    }
   ],
   "source": [
    "X.isnull().sum()"
   ]
  },
  {
   "cell_type": "code",
   "execution_count": null,
   "id": "df4f89c1-096f-4150-b9c8-513a39e8db59",
   "metadata": {},
   "outputs": [],
   "source": []
  }
 ],
 "metadata": {
  "kernelspec": {
   "display_name": "Python 3",
   "language": "python",
   "name": "python3"
  },
  "language_info": {
   "codemirror_mode": {
    "name": "ipython",
    "version": 3
   },
   "file_extension": ".py",
   "mimetype": "text/x-python",
   "name": "python",
   "nbconvert_exporter": "python",
   "pygments_lexer": "ipython3",
   "version": "3.8.8"
  }
 },
 "nbformat": 4,
 "nbformat_minor": 5
}
